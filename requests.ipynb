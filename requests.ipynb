{
 "cells": [
  {
   "cell_type": "code",
   "execution_count": null,
   "id": "ef8c2877-4c7c-4e25-abca-e2e1bfe666f6",
   "metadata": {},
   "outputs": [],
   "source": [
    "import requests\n"
   ]
  },
  {
   "cell_type": "code",
   "execution_count": 3,
   "id": "4d6fa66d-f2e5-4530-9322-65983deed9b7",
   "metadata": {},
   "outputs": [],
   "source": [
    "a=requests.get(\"https://books.toscrape.com/\")"
   ]
  },
  {
   "cell_type": "code",
   "execution_count": null,
   "id": "df8a7718-7ac3-409c-90f6-817b7cfb8538",
   "metadata": {},
   "outputs": [
    {
     "name": "stdout",
     "output_type": "stream",
     "text": [
      "downloded page1 sucessfully\n",
      "downloded page2 sucessfully\n",
      "downloded page3 sucessfully\n",
      "downloded page4 sucessfully\n",
      "downloded page5 sucessfully\n",
      "downloded page6 sucessfully\n",
      "downloded page7 sucessfully\n",
      "downloded page8 sucessfully\n",
      "downloded page9 sucessfully\n",
      "downloded page10 sucessfully\n",
      "downloded page11 sucessfully\n",
      "downloded page12 sucessfully\n",
      "downloded page13 sucessfully\n",
      "downloded page14 sucessfully\n",
      "downloded page15 sucessfully\n",
      "downloded page16 sucessfully\n",
      "downloded page17 sucessfully\n",
      "downloded page18 sucessfully\n",
      "downloded page19 sucessfully\n",
      "downloded page20 sucessfully\n",
      "downloded page21 sucessfully\n",
      "downloded page22 sucessfully\n",
      "downloded page23 sucessfully\n",
      "downloded page24 sucessfully\n",
      "downloded page25 sucessfully\n",
      "downloded page26 sucessfully\n",
      "downloded page27 sucessfully\n",
      "downloded page28 sucessfully\n",
      "downloded page29 sucessfully\n",
      "downloded page30 sucessfully\n",
      "downloded page31 sucessfully\n",
      "downloded page32 sucessfully\n",
      "downloded page33 sucessfully\n",
      "downloded page34 sucessfully\n",
      "downloded page35 sucessfully\n",
      "downloded page36 sucessfully\n",
      "downloded page37 sucessfully\n",
      "downloded page38 sucessfully\n",
      "downloded page39 sucessfully\n",
      "downloded page40 sucessfully\n",
      "downloded page41 sucessfully\n",
      "downloded page42 sucessfully\n",
      "downloded page43 sucessfully\n",
      "downloded page44 sucessfully\n",
      "downloded page45 sucessfully\n",
      "downloded page46 sucessfully\n",
      "downloded page47 sucessfully\n",
      "downloded page48 sucessfully\n",
      "downloded page49 sucessfully\n",
      "downloded page50 sucessfully\n"
     ]
    }
   ],
   "source": [
    "for i in range(1,51):\n",
    " a=requests.get(f\"https://books.toscrape.com/catalogue/page-{i}.html\")\n",
    " with open(f\"htmls/page{i}.html\",\"w\",encoding=\"utf-8\") as f:\n",
    "    f.write(a.text)\n",
    "    print(f\"downloded page{i} sucessfully\")\n",
    "    "
   ]
  },
  {
   "cell_type": "code",
   "execution_count": null,
   "id": "c7fa36ca-0c6e-4968-a48e-3ade1def1166",
   "metadata": {},
   "outputs": [],
   "source": []
  },
  {
   "cell_type": "code",
   "execution_count": null,
   "id": "c2b74e41-38c4-4a16-b13e-de1aba3b6fa1",
   "metadata": {},
   "outputs": [],
   "source": []
  },
  {
   "cell_type": "code",
   "execution_count": null,
   "id": "e578fde7-0ab1-4bd7-9266-0a872abe4149",
   "metadata": {},
   "outputs": [],
   "source": []
  }
 ],
 "metadata": {
  "kernelspec": {
   "display_name": "Python 3 (ipykernel)",
   "language": "python",
   "name": "python3"
  },
  "language_info": {
   "codemirror_mode": {
    "name": "ipython",
    "version": 3
   },
   "file_extension": ".py",
   "mimetype": "text/x-python",
   "name": "python",
   "nbconvert_exporter": "python",
   "pygments_lexer": "ipython3",
   "version": "3.12.4"
  }
 },
 "nbformat": 4,
 "nbformat_minor": 5
}
